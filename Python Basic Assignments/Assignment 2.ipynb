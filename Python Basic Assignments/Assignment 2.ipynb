{
 "cells": [
  {
   "cell_type": "markdown",
   "metadata": {},
   "source": [
    "## Assignment 2"
   ]
  },
  {
   "cell_type": "markdown",
   "metadata": {},
   "source": [
    "#### 1.What are the two values of the Boolean data type? How do you write them?"
   ]
  },
  {
   "cell_type": "markdown",
   "metadata": {},
   "source": [
    "The two values are true and false. They are written as `True` and `False`"
   ]
  },
  {
   "cell_type": "markdown",
   "metadata": {},
   "source": [
    "#### 2. What are the three different types of Boolean operators?"
   ]
  },
  {
   "cell_type": "markdown",
   "metadata": {},
   "source": [
    "The boolean operators are `AND`, `OR`, `NOT`"
   ]
  },
  {
   "cell_type": "markdown",
   "metadata": {},
   "source": [
    "#### 3. Make a list of each Boolean operator&#39;s truth tables (i.e. every possible combination of Boolean values for the operator and what it evaluate )."
   ]
  },
  {
   "cell_type": "markdown",
   "metadata": {},
   "source": [
    "**AND Table**\n",
    "\n",
    "|Expression |Evaluation | \n",
    "|:----------|:----------|\n",
    "|True  and True  |True  |\n",
    "|True  and False |False |\n",
    "|False and True |False  |\n",
    "|False and False|False  |\n"
   ]
  },
  {
   "cell_type": "markdown",
   "metadata": {},
   "source": [
    "**OR Table**\n",
    "\n",
    "\n",
    "|Expression |Evaluation | \n",
    "|:----------|:----------|\n",
    "|True  or True  |True   |\n",
    "|True  or False |True   |\n",
    "|False or True  |True   |\n",
    "|False or False |False  |\n"
   ]
  },
  {
   "cell_type": "markdown",
   "metadata": {},
   "source": [
    "**NOT Table**\n",
    "\n",
    "\n",
    "|Expression |Evaluation | \n",
    "|:----------|:----------|\n",
    "|not True   |False      |\n",
    "|not False  |True       |\n"
   ]
  },
  {
   "cell_type": "markdown",
   "metadata": {},
   "source": [
    "#### 4. What are the values of the following expressions?\n",
    "\n",
    "`(5 > 4) and (3 == 5)`<br>\n",
    "`not (5 > 4)`<br>\n",
    "`(5 > 4) or (3 == 5)`<br>\n",
    "`not ((5 > 4) or (3 == 5))`<br>\n",
    "`(True and True) and (True == False)`<br>\n",
    "`(not False) or (not True)`\n",
    "\n"
   ]
  },
  {
   "cell_type": "markdown",
   "metadata": {},
   "source": [
    "**Answer** <br>\n",
    "`(5 > 4) and (3 == 5)` evaluates to `False`<br>\n",
    "`not (5 > 4)` evaluates to `False`<br>\n",
    "`(5 > 4) or (3 == 5)` evaluates to `True`<br>\n",
    "`(True and True) and (True == False)` evaluates to `False`<br>\n",
    "`(not False) or (not True)` evaluates to `False`\n",
    "\n"
   ]
  },
  {
   "cell_type": "markdown",
   "metadata": {},
   "source": [
    "#### 5. What are the six comparison operators?\n"
   ]
  },
  {
   "cell_type": "markdown",
   "metadata": {},
   "source": [
    "Less than `<` <br>\n",
    "Less than or equal to `<=` <br>\n",
    "Greater than `>` <br>\n",
    "Greater than or equal to `>=` <br>\n",
    "Equal to `==` <br>\n",
    "Not equal to `!=` <br>\n"
   ]
  },
  {
   "cell_type": "markdown",
   "metadata": {},
   "source": [
    "#### 7. Identify the three blocks in this code:\n",
    "spam = 0 <br>\n",
    "if spam == 10: <br>\n",
    "    print('eggs')<br>\n",
    "if spam > 5: <br>\n",
    "    print('bacon') <br>\n",
    "else:<br>\n",
    "    print('ham') <br>\n",
    "print('spam') <br>\n",
    "print('spam')<br>"
   ]
  },
  {
   "cell_type": "markdown",
   "metadata": {},
   "source": [
    "**Answer** :The three blocks are everything inside the if statement and the lines print('bacon') and print('ham')"
   ]
  },
  {
   "cell_type": "markdown",
   "metadata": {},
   "source": [
    "#### 8. Write code that prints Hello if 1 is stored in spam, prints Howdy if 2 is stored in spam, and prints Greetings! if anything else is stored in spam.\n"
   ]
  },
  {
   "cell_type": "markdown",
   "metadata": {},
   "source": [
    "```python\n",
    "if spam == 1: \n",
    "    print('Hello') \n",
    "elif spam == 2: \n",
    "    print('Howdy') \n",
    "else:\n",
    "    print('Greetings!')\n",
    "    ```"
   ]
  },
  {
   "cell_type": "markdown",
   "metadata": {},
   "source": [
    "#### 9.If your programme is stuck in an endless loop, what keys you’ll press?\n"
   ]
  },
  {
   "cell_type": "markdown",
   "metadata": {},
   "source": [
    "If our program is stuck in an endless loop press **CTRL$+$K**"
   ]
  },
  {
   "cell_type": "markdown",
   "metadata": {},
   "source": [
    "#### 10. How can you tell the difference between break and continue?"
   ]
  },
  {
   "cell_type": "markdown",
   "metadata": {},
   "source": [
    "`break` - It terminates the iteration of loop <br>\n",
    "`continue` - It skips the rest of the loop and move the execution to the start of the loop"
   ]
  },
  {
   "cell_type": "markdown",
   "metadata": {},
   "source": [
    "#### 11. In a for loop, what is the difference between range(10), range(0, 10), and range(0, 10, 1)?\n"
   ]
  },
  {
   "cell_type": "markdown",
   "metadata": {},
   "source": [
    "range(10)     - It ranges from 0 to 10 but exclusing 10 <br>\n",
    "range(0,10)   - It tells the loop to start at 0 <br>\n",
    "range(0,10,1) - It tells the loop to start from zero and increment by value 1<br>"
   ]
  },
  {
   "cell_type": "markdown",
   "metadata": {},
   "source": [
    "#### 12. Write a short program that prints the numbers 1 to 10 using a for loop. Then write an equivalent program that prints the numbers 1 to 10 using a while loop."
   ]
  },
  {
   "cell_type": "markdown",
   "metadata": {},
   "source": [
    "Using for loop\n",
    "```python\n",
    "for i in range(1,11):\n",
    "    print(i)\n",
    "```"
   ]
  },
  {
   "cell_type": "markdown",
   "metadata": {},
   "source": [
    "Using while loop\n",
    "```python\n",
    "i = 1\n",
    "while i < 10:\n",
    "    print(i)\n",
    "    i = i+1\n",
    "```"
   ]
  },
  {
   "cell_type": "markdown",
   "metadata": {},
   "source": [
    "#### 13. If you had a function named bacon() inside a module named spam, how would you call it after importing spam?\n"
   ]
  },
  {
   "cell_type": "markdown",
   "metadata": {},
   "source": [
    "It can be called by ```spam.bacon()```"
   ]
  },
  {
   "cell_type": "code",
   "execution_count": null,
   "metadata": {},
   "outputs": [],
   "source": []
  }
 ],
 "metadata": {
  "kernelspec": {
   "display_name": "Python 3",
   "language": "python",
   "name": "python3"
  },
  "language_info": {
   "codemirror_mode": {
    "name": "ipython",
    "version": 3
   },
   "file_extension": ".py",
   "mimetype": "text/x-python",
   "name": "python",
   "nbconvert_exporter": "python",
   "pygments_lexer": "ipython3",
   "version": "3.8.3"
  }
 },
 "nbformat": 4,
 "nbformat_minor": 4
}
